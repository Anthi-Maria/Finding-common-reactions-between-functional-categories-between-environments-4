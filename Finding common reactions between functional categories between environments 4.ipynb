{
 "cells": [
  {
   "cell_type": "code",
   "execution_count": 1,
   "id": "seven-remove",
   "metadata": {},
   "outputs": [
    {
     "name": "stdout",
     "output_type": "stream",
     "text": [
      "Academic license - for non-commercial use only - expires 2023-02-21\n",
      "Using license file /home/schwartzlab/gurobi.lic\n"
     ]
    }
   ],
   "source": [
    "import numpy as np\n",
    "import pandas as pd\n",
    "import cobra.test\n",
    "import os\n",
    "\n",
    "from os.path import join\n",
    "\n",
    "from time import time\n",
    "\n",
    "\n",
    "from cobra.flux_analysis import (\n",
    "    single_gene_deletion, single_reaction_deletion, double_gene_deletion,\n",
    "    double_reaction_deletion)\n",
    "\n",
    "a = cobra.io.read_sbml_model(\"iEC1344_C.xml\")"
   ]
  },
  {
   "cell_type": "code",
   "execution_count": 2,
   "id": "phantom-scheme",
   "metadata": {},
   "outputs": [
    {
     "data": {
      "text/plain": [
       "25"
      ]
     },
     "execution_count": 2,
     "metadata": {},
     "output_type": "execute_result"
    }
   ],
   "source": [
    "df= pd.read_csv('diff_saturated.csv')\n",
    "b= df.iloc[:, 1]\n",
    "df1= pd.read_csv('diff_saturated anaerobic.csv')\n",
    "c= df1.iloc[:, 1]\n",
    "df2= pd.read_csv('diff_saturated study conditions.csv')\n",
    "d= df2.iloc[:, 1]\n",
    "df3= pd.read_csv('diff_saturated M9 media.csv')\n",
    "e= df3.iloc[:, 1]\n",
    "df4= pd.read_csv('diff_saturated lactose.csv')\n",
    "f= df4.iloc[:, 1]\n",
    "\n",
    "intersect1 = pd.Series(np.intersect1d(b, c))\n",
    "intersect2 = pd.Series(np.intersect1d(b, d))\n",
    "intersect3 = pd.Series(np.intersect1d(b, e))\n",
    "intersect4 = pd.Series(np.intersect1d(b, f))\n",
    "\n",
    "\n",
    "D= pd.DataFrame(intersect1, columns=['Reaction names'])\n",
    "D.to_csv(\"Common reactions saturated original-saturated anaerobic\")\n",
    "D1= pd.DataFrame(intersect2, columns=['Reaction names'])\n",
    "D1.to_csv(\"Common reactions saturated original-saturated study conditions\")\n",
    "D2= pd.DataFrame(intersect3, columns=['Reaction names'])\n",
    "D2.to_csv(\"Common reactions saturated original-saturated M9 media\")\n",
    "D3= pd.DataFrame(intersect4, columns=['Reaction names'])\n",
    "D3.to_csv(\"Common reactions saturated original-saturated lactose\")\n",
    "\n",
    "len(D)\n",
    "len(D1)\n",
    "len(D2)\n",
    "len(D3)\n"
   ]
  },
  {
   "cell_type": "code",
   "execution_count": 7,
   "id": "blocked-durham",
   "metadata": {},
   "outputs": [
    {
     "data": {
      "text/plain": [
       "146"
      ]
     },
     "execution_count": 7,
     "metadata": {},
     "output_type": "execute_result"
    }
   ],
   "source": [
    "df= pd.read_csv('flat.csv')\n",
    "b= df.iloc[:, 1]\n",
    "df1= pd.read_csv('flat anaerobic.csv')\n",
    "c= df1.iloc[:, 1]\n",
    "df2= pd.read_csv('flat study conditions.csv')\n",
    "d= df2.iloc[:, 1]\n",
    "df3= pd.read_csv('flat M9 media.csv')\n",
    "e= df3.iloc[:, 1]\n",
    "df4= pd.read_csv('flat lactose.csv')\n",
    "f= df4.iloc[:, 1]\n",
    "\n",
    "intersect1 = pd.Series(np.intersect1d(b, c))\n",
    "intersect2 = pd.Series(np.intersect1d(b, d))\n",
    "intersect3 = pd.Series(np.intersect1d(b, e))\n",
    "intersect4 = pd.Series(np.intersect1d(b, f))\n",
    "\n",
    "\n",
    "D= pd.DataFrame(intersect1, columns=['Reaction names'])\n",
    "D.to_csv(\"Common reactions flat original-flat anaerobic\")\n",
    "D1= pd.DataFrame(intersect2, columns=['Reaction names'])\n",
    "D1.to_csv(\"Common reactions flat original-flat study conditions\")\n",
    "D2= pd.DataFrame(intersect3, columns=['Reaction names'])\n",
    "D2.to_csv(\"Common reactions flat original-flat M9 media\")\n",
    "D3= pd.DataFrame(intersect4, columns=['Reaction names'])\n",
    "D3.to_csv(\"Common reactions flat original-flat lactose\")\n",
    "\n",
    "len(D)\n",
    "len(D1)\n",
    "len(D2)\n",
    "len(D3)\n"
   ]
  },
  {
   "cell_type": "code",
   "execution_count": 12,
   "id": "median-intellectual",
   "metadata": {},
   "outputs": [
    {
     "data": {
      "text/plain": [
       "967"
      ]
     },
     "execution_count": 12,
     "metadata": {},
     "output_type": "execute_result"
    }
   ],
   "source": [
    "df= pd.read_csv('one feasible value reactions.csv')\n",
    "b= df.iloc[:, 1]\n",
    "df1= pd.read_csv('one feasible value reactions anaerobic.csv')\n",
    "c= df1.iloc[:, 1]\n",
    "df2= pd.read_csv('one feasible value reactions study conditions.csv')\n",
    "d= df2.iloc[:, 1]\n",
    "df3= pd.read_csv('one feasible value reactions M9 media.csv')\n",
    "e= df3.iloc[:, 1]\n",
    "df4= pd.read_csv('one feasible value reactions lactose.csv')\n",
    "f= df4.iloc[:, 1]\n",
    "\n",
    "intersect1 = pd.Series(np.intersect1d(b, c))\n",
    "intersect2 = pd.Series(np.intersect1d(b, d))\n",
    "intersect3 = pd.Series(np.intersect1d(b, e))\n",
    "intersect4 = pd.Series(np.intersect1d(b, f))\n",
    "\n",
    "\n",
    "D= pd.DataFrame(intersect1, columns=['Reaction names'])\n",
    "D.to_csv(\"Common reactions one feasible value original-one feasible value anaerobic\")\n",
    "D1= pd.DataFrame(intersect2, columns=['Reaction names'])\n",
    "D1.to_csv(\"Common reactions one feasible value original-one feasible value study conditions\")\n",
    "D2= pd.DataFrame(intersect3, columns=['Reaction names'])\n",
    "D2.to_csv(\"Common reactions one feasible value original-one feasible value M9 media\")\n",
    "D3= pd.DataFrame(intersect4, columns=['Reaction names'])\n",
    "D3.to_csv(\"Common reactions one feasible value original-one feasible value lactose\")\n",
    "\n",
    "len(D)\n",
    "len(D1)\n",
    "len(D2)\n",
    "len(D3)\n"
   ]
  },
  {
   "cell_type": "code",
   "execution_count": 17,
   "id": "nearby-hungary",
   "metadata": {},
   "outputs": [
    {
     "data": {
      "text/plain": [
       "7"
      ]
     },
     "execution_count": 17,
     "metadata": {},
     "output_type": "execute_result"
    }
   ],
   "source": [
    "df= pd.read_csv('Ushaped_reactions.csv')\n",
    "b= df.iloc[:, 1]\n",
    "df1= pd.read_csv('Ushaped_reactions anaerobic.csv')\n",
    "c= df1.iloc[:, 1]\n",
    "df2= pd.read_csv('Ushaped_reactions study conditions.csv')\n",
    "d= df2.iloc[:, 1]\n",
    "df3= pd.read_csv('Ushaped_reactions M9 media.csv')\n",
    "e= df3.iloc[:, 1]\n",
    "df4= pd.read_csv('Ushaped_reactions lactose.csv')\n",
    "f= df4.iloc[:, 1]\n",
    "\n",
    "intersect1 = pd.Series(np.intersect1d(b, c))\n",
    "intersect2 = pd.Series(np.intersect1d(b, d))\n",
    "intersect3 = pd.Series(np.intersect1d(b, e))\n",
    "intersect4 = pd.Series(np.intersect1d(b, f))\n",
    "\n",
    "\n",
    "D= pd.DataFrame(intersect1, columns=['Reaction names'])\n",
    "D.to_csv(\"Common reactions Ushaped original-Ushaped anaerobic\")\n",
    "D1= pd.DataFrame(intersect2, columns=['Reaction names'])\n",
    "D1.to_csv(\"Common reactions Ushaped original-Ushaped study conditions\")\n",
    "D2= pd.DataFrame(intersect3, columns=['Reaction names'])\n",
    "D2.to_csv(\"Common reactions Ushaped original-Ushaped M9 media\")\n",
    "D3= pd.DataFrame(intersect4, columns=['Reaction names'])\n",
    "D3.to_csv(\"Common reactions Ushaped original-Ushaped lactose\")\n",
    "\n",
    "len(D)\n",
    "len(D1)\n",
    "len(D2)\n",
    "len(D3)\n"
   ]
  },
  {
   "cell_type": "code",
   "execution_count": 23,
   "id": "answering-robert",
   "metadata": {},
   "outputs": [
    {
     "data": {
      "text/plain": [
       "105"
      ]
     },
     "execution_count": 23,
     "metadata": {},
     "output_type": "execute_result"
    }
   ],
   "source": [
    "df= pd.read_csv('monotonically decreasing and stable reactions.csv')\n",
    "b= df.iloc[:, 1]\n",
    "df1= pd.read_csv('monotonically decreasing and stable reactions anaerobic.csv')\n",
    "c= df1.iloc[:, 1]\n",
    "df2= pd.read_csv('monotonically decreasing and stable reactions study conditions.csv')\n",
    "d= df2.iloc[:, 1]\n",
    "df3= pd.read_csv('monotonically decreasing and stable reactions M9 media.csv')\n",
    "e= df3.iloc[:, 1]\n",
    "df4= pd.read_csv('monotonically decreasing and stable reactions lactose.csv')\n",
    "f= df4.iloc[:, 1]\n",
    "\n",
    "intersect1 = pd.Series(np.intersect1d(b, c))\n",
    "intersect2 = pd.Series(np.intersect1d(b, d))\n",
    "intersect3 = pd.Series(np.intersect1d(b, e))\n",
    "intersect4 = pd.Series(np.intersect1d(b, f))\n",
    "\n",
    "\n",
    "D= pd.DataFrame(intersect1, columns=['Reaction names'])\n",
    "D.to_csv(\"Common reactions monotonically decreasing and stable reactions original-monotonically decreasing and stable reactions anaerobic\")\n",
    "D1= pd.DataFrame(intersect2, columns=['Reaction names'])\n",
    "D1.to_csv(\"Common reactions monotonically decreasing and stable reactions original-monotonically decreasing and stable reactions study conditions\")\n",
    "D2= pd.DataFrame(intersect3, columns=['Reaction names'])\n",
    "D2.to_csv(\"Common reactions monotonically decreasing and stable reactions original-monotonically decreasing and stable reactions M9 media\")\n",
    "D3= pd.DataFrame(intersect4, columns=['Reaction names'])\n",
    "D3.to_csv(\"Common reactions monotonically decreasing and stable reactions original-monotonically decreasing and stable reactions lactose\")\n",
    "\n",
    "len(D)\n",
    "len(D1)\n",
    "len(D2)\n",
    "len(D3)"
   ]
  },
  {
   "cell_type": "code",
   "execution_count": 28,
   "id": "personal-indicator",
   "metadata": {},
   "outputs": [
    {
     "data": {
      "text/plain": [
       "485"
      ]
     },
     "execution_count": 28,
     "metadata": {},
     "output_type": "execute_result"
    }
   ],
   "source": [
    "df= pd.read_csv('monotonically decreasing only reactions.csv')\n",
    "b= df.iloc[:, 1]\n",
    "df1= pd.read_csv('monotonically decreasing only reactions anaerobic.csv')\n",
    "c= df1.iloc[:, 1]\n",
    "df2= pd.read_csv('monotonically decreasing only reactions study conditions.csv')\n",
    "d= df2.iloc[:, 1]\n",
    "df3= pd.read_csv('monotonically decreasing only reactions M9 media.csv')\n",
    "e= df3.iloc[:, 1]\n",
    "df4= pd.read_csv('monotonically decreasing only reactions lactose.csv')\n",
    "f= df4.iloc[:, 1]\n",
    "\n",
    "intersect1 = pd.Series(np.intersect1d(b, c))\n",
    "intersect2 = pd.Series(np.intersect1d(b, d))\n",
    "intersect3 = pd.Series(np.intersect1d(b, e))\n",
    "intersect4 = pd.Series(np.intersect1d(b, f))\n",
    "\n",
    "\n",
    "D= pd.DataFrame(intersect1, columns=['Reaction names'])\n",
    "D.to_csv(\"Common reactions monotonically decreasing only original-monotonically decreasing only anaerobic\")\n",
    "D1= pd.DataFrame(intersect2, columns=['Reaction names'])\n",
    "D1.to_csv(\"Common reactions monotonically decreasing only original-monotonically decreasing only study conditions\")\n",
    "D2= pd.DataFrame(intersect3, columns=['Reaction names'])\n",
    "D2.to_csv(\"Common reactions monotonically decreasing only original-monotonically decreasing only M9 media\")\n",
    "D3= pd.DataFrame(intersect4, columns=['Reaction names'])\n",
    "D3.to_csv(\"Common reactions monotonically decreasing only original-monotonically decreasing only lactose\")\n",
    "\n",
    "len(D)\n",
    "len(D1)\n",
    "len(D2)\n",
    "len(D3)"
   ]
  },
  {
   "cell_type": "code",
   "execution_count": 33,
   "id": "pacific-throw",
   "metadata": {},
   "outputs": [
    {
     "data": {
      "text/plain": [
       "175"
      ]
     },
     "execution_count": 33,
     "metadata": {},
     "output_type": "execute_result"
    }
   ],
   "source": [
    "df= pd.read_csv('monotonically increasing only reactions.csv')\n",
    "b= df.iloc[:, 1]\n",
    "df1= pd.read_csv('monotonically increasing only reactions anaerobic.csv')\n",
    "c= df1.iloc[:, 1]\n",
    "df2= pd.read_csv('monotonically increasing only reactions study conditions.csv')\n",
    "d= df2.iloc[:, 1]\n",
    "df3= pd.read_csv('monotonically increasing only reactions M9 media.csv')\n",
    "e= df3.iloc[:, 1]\n",
    "df4= pd.read_csv('monotonically increasing only reactions lactose.csv')\n",
    "f= df4.iloc[:, 1]\n",
    "\n",
    "intersect1 = pd.Series(np.intersect1d(b, c))\n",
    "intersect2 = pd.Series(np.intersect1d(b, d))\n",
    "intersect3 = pd.Series(np.intersect1d(b, e))\n",
    "intersect4 = pd.Series(np.intersect1d(b, f))\n",
    "\n",
    "\n",
    "D= pd.DataFrame(intersect1, columns=['Reaction names'])\n",
    "D.to_csv(\"Common reactions monotonically increasing only original-monotonically increasing only anaerobic\")\n",
    "D1= pd.DataFrame(intersect2, columns=['Reaction names'])\n",
    "D1.to_csv(\"Common reactions monotonically increasing only original-monotonically increasing only study conditions\")\n",
    "D2= pd.DataFrame(intersect3, columns=['Reaction names'])\n",
    "D2.to_csv(\"Common reactions monotonically increasing only original-monotonically increasing only M9 media\")\n",
    "D3= pd.DataFrame(intersect4, columns=['Reaction names'])\n",
    "D3.to_csv(\"Common reactions monotonically increasing only original-monotonically increasing only lactose\")\n",
    "\n",
    "len(D)\n",
    "len(D1)\n",
    "len(D2)\n",
    "len(D3)"
   ]
  },
  {
   "cell_type": "code",
   "execution_count": 38,
   "id": "wireless-harris",
   "metadata": {},
   "outputs": [
    {
     "data": {
      "text/plain": [
       "16"
      ]
     },
     "execution_count": 38,
     "metadata": {},
     "output_type": "execute_result"
    }
   ],
   "source": [
    "df= pd.read_csv('monotonically increasing and stable reactions.csv')\n",
    "b= df.iloc[:, 1]\n",
    "df1= pd.read_csv('monotonically increasing and stable reactions anaerobic.csv')\n",
    "c= df1.iloc[:, 1]\n",
    "df2= pd.read_csv('monotonically increasing and stable reactions study conditions.csv')\n",
    "d= df2.iloc[:, 1]\n",
    "df3= pd.read_csv('monotonically increasing and stable reactions M9 media.csv')\n",
    "e= df3.iloc[:, 1]\n",
    "df4= pd.read_csv('monotonically increasing and stable reactions lactose.csv')\n",
    "f= df4.iloc[:, 1]\n",
    "\n",
    "intersect1 = pd.Series(np.intersect1d(b, c))\n",
    "intersect2 = pd.Series(np.intersect1d(b, d))\n",
    "intersect3 = pd.Series(np.intersect1d(b, e))\n",
    "intersect4 = pd.Series(np.intersect1d(b, f))\n",
    "\n",
    "\n",
    "D= pd.DataFrame(intersect1, columns=['Reaction names'])\n",
    "D.to_csv(\"Common reactions monotonically increasing and stable original-monotonically increasing and stable anaerobic\")\n",
    "D1= pd.DataFrame(intersect2, columns=['Reaction names'])\n",
    "D1.to_csv(\"Common reactions monotonically increasing and stable original-monotonically increasing and stable study conditions\")\n",
    "D2= pd.DataFrame(intersect3, columns=['Reaction names'])\n",
    "D2.to_csv(\"Common reactions monotonically increasing and stable original-monotonically increasing and stable M9 media\")\n",
    "D3= pd.DataFrame(intersect4, columns=['Reaction names'])\n",
    "D3.to_csv(\"Common reactions monotonically increasing and stable original-monotonically increasing and stable lactose\")\n",
    "\n",
    "len(D)\n",
    "len(D1)\n",
    "len(D2)\n",
    "len(D3)"
   ]
  },
  {
   "cell_type": "code",
   "execution_count": 48,
   "id": "pointed-colonial",
   "metadata": {},
   "outputs": [
    {
     "data": {
      "text/plain": [
       "49"
      ]
     },
     "execution_count": 48,
     "metadata": {},
     "output_type": "execute_result"
    }
   ],
   "source": [
    "df= pd.read_csv('increasing and decreasing and stable reactions.csv')\n",
    "b= df.iloc[:, 1]\n",
    "df1= pd.read_csv('increasing and decreasing and stable reactions anaerobic.csv')\n",
    "c= df1.iloc[:, 1]\n",
    "df2= pd.read_csv('increasing and decreasing and stable reactions study conditions.csv')\n",
    "d= df2.iloc[:, 1]\n",
    "df3= pd.read_csv('increasing and decreasing and stable reactions M9 media.csv')\n",
    "e= df3.iloc[:, 1]\n",
    "df4= pd.read_csv('increasing and decreasing and stable reactions lactose.csv')\n",
    "f= df4.iloc[:, 1]\n",
    "\n",
    "intersect1 = pd.Series(np.intersect1d(b, c))\n",
    "intersect2 = pd.Series(np.intersect1d(b, d))\n",
    "intersect3 = pd.Series(np.intersect1d(b, e))\n",
    "intersect4 = pd.Series(np.intersect1d(b, f))\n",
    "\n",
    "\n",
    "D= pd.DataFrame(intersect1, columns=['Reaction names'])\n",
    "D.to_csv(\"Common reactions increasing and decreasing and stable original-increasing and decreasing and stable anaerobic\")\n",
    "D1= pd.DataFrame(intersect2, columns=['Reaction names'])\n",
    "D1.to_csv(\"Common reactions increasing and decreasing and stable original-increasing and decreasing and stable study conditions\")\n",
    "D2= pd.DataFrame(intersect3, columns=['Reaction names'])\n",
    "D2.to_csv(\"Common reactions increasing and decreasing and stable original-increasing and decreasing and stable M9 media\")\n",
    "D3= pd.DataFrame(intersect4, columns=['Reaction names'])\n",
    "D3.to_csv(\"Common reactions increasing and decreasing and stable original-increasing and decreasing and stable lactose\")\n",
    "\n",
    "len(D)\n",
    "len(D1)\n",
    "len(D2)\n",
    "len(D3)"
   ]
  },
  {
   "cell_type": "code",
   "execution_count": 49,
   "id": "supported-desire",
   "metadata": {},
   "outputs": [
    {
     "data": {
      "text/plain": [
       "424"
      ]
     },
     "execution_count": 49,
     "metadata": {},
     "output_type": "execute_result"
    }
   ],
   "source": [
    "df= pd.read_csv('increasing and decreasing only reactions.csv')\n",
    "b= df.iloc[:, 1]\n",
    "df1= pd.read_csv('increasing and decreasing only reactions anaerobic.csv')\n",
    "c= df1.iloc[:, 1]\n",
    "df2= pd.read_csv('increasing and decreasing only reactions study conditions.csv')\n",
    "d= df2.iloc[:, 1]\n",
    "df3= pd.read_csv('increasing and decreasing only reactions M9 media.csv')\n",
    "e= df3.iloc[:, 1]\n",
    "df4= pd.read_csv('increasing and decreasing only reactions lactose.csv')\n",
    "f= df4.iloc[:, 1]\n",
    "\n",
    "intersect1 = pd.Series(np.intersect1d(b, c))\n",
    "intersect2 = pd.Series(np.intersect1d(b, d))\n",
    "intersect3 = pd.Series(np.intersect1d(b, e))\n",
    "intersect4 = pd.Series(np.intersect1d(b, f))\n",
    "\n",
    "\n",
    "D= pd.DataFrame(intersect1, columns=['Reaction names'])\n",
    "D.to_csv(\"Common reactions increasing and decreasing only original-increasing and decreasing only anaerobic\")\n",
    "D1= pd.DataFrame(intersect2, columns=['Reaction names'])\n",
    "D1.to_csv(\"Common reactions increasing and decreasing only original-increasing and decreasing only study conditions\")\n",
    "D2= pd.DataFrame(intersect3, columns=['Reaction names'])\n",
    "D2.to_csv(\"Common reactions increasing and decreasing only original-increasing and decreasing only M9 media\")\n",
    "D3= pd.DataFrame(intersect4, columns=['Reaction names'])\n",
    "D3.to_csv(\"Common reactions increasing and decreasing only original-increasing and decreasing only lactose\")\n",
    "\n",
    "len(D)\n",
    "len(D1)\n",
    "len(D2)\n",
    "len(D3)"
   ]
  },
  {
   "cell_type": "code",
   "execution_count": 54,
   "id": "rising-nickname",
   "metadata": {},
   "outputs": [
    {
     "data": {
      "text/plain": [
       "0"
      ]
     },
     "execution_count": 54,
     "metadata": {},
     "output_type": "execute_result"
    }
   ],
   "source": [
    "df= pd.read_csv('diff_saturated M9 media.csv')\n",
    "b= df.iloc[:, 1]\n",
    "df1= pd.read_csv('diff_saturated anaerobic.csv')\n",
    "c= df1.iloc[:, 1]\n",
    "df2= pd.read_csv('diff_saturated study conditions.csv')\n",
    "d= df2.iloc[:, 1]\n",
    "df3= pd.read_csv('diff_saturated lactose.csv')\n",
    "e= df3.iloc[:, 1]\n",
    "\n",
    "\n",
    "intersect1 = pd.Series(np.intersect1d(b, c))\n",
    "intersect2 = pd.Series(np.intersect1d(b, d))\n",
    "intersect3 = pd.Series(np.intersect1d(b, e))\n",
    "\n",
    "\n",
    "D= pd.DataFrame(intersect1, columns=['Reaction names'])\n",
    "D.to_csv(\"Common reactions saturated M9 media-saturated anaerobic\")\n",
    "D1= pd.DataFrame(intersect2, columns=['Reaction names'])\n",
    "D1.to_csv(\"Common reactions saturated M9 media-saturated study conditions\")\n",
    "D2= pd.DataFrame(intersect3, columns=['Reaction names'])\n",
    "D2.to_csv(\"Common reactions saturated M9 media-saturated lactose\")\n",
    "\n",
    "\n",
    "len(D)\n",
    "len(D1)\n",
    "len(D2)\n"
   ]
  },
  {
   "cell_type": "code",
   "execution_count": 58,
   "id": "creative-radar",
   "metadata": {},
   "outputs": [
    {
     "data": {
      "text/plain": [
       "0"
      ]
     },
     "execution_count": 58,
     "metadata": {},
     "output_type": "execute_result"
    }
   ],
   "source": [
    "df= pd.read_csv('diff_saturated study conditions.csv')\n",
    "b= df.iloc[:, 1]\n",
    "df1= pd.read_csv('diff_saturated anaerobic.csv')\n",
    "c= df1.iloc[:, 1]\n",
    "df2= pd.read_csv('diff_saturated lactose.csv')\n",
    "d= df2.iloc[:, 1]\n",
    "\n",
    "intersect1 = pd.Series(np.intersect1d(b, c))\n",
    "intersect2 = pd.Series(np.intersect1d(b, d))\n",
    "\n",
    "\n",
    "D= pd.DataFrame(intersect1, columns=['Reaction names'])\n",
    "D.to_csv(\"Common reactions saturated study conditions-saturated anaerobic\")\n",
    "D1= pd.DataFrame(intersect2, columns=['Reaction names'])\n",
    "D1.to_csv(\"Common reactions saturated study conditions-saturated lactose\")\n",
    "\n",
    "\n",
    "len(D)\n",
    "len(D1)\n"
   ]
  },
  {
   "cell_type": "code",
   "execution_count": 62,
   "id": "perfect-official",
   "metadata": {},
   "outputs": [
    {
     "data": {
      "text/plain": [
       "0"
      ]
     },
     "execution_count": 62,
     "metadata": {},
     "output_type": "execute_result"
    }
   ],
   "source": [
    "df= pd.read_csv('diff_saturated lactose.csv')\n",
    "b= df.iloc[:, 1]\n",
    "df1= pd.read_csv('diff_saturated anaerobic.csv')\n",
    "c= df1.iloc[:, 1]\n",
    "\n",
    "intersect1 = pd.Series(np.intersect1d(b, c))\n",
    "\n",
    "\n",
    "D= pd.DataFrame(intersect1, columns=['Reaction names'])\n",
    "D.to_csv(\"Common reactions saturated lactose-saturated anaerobic\")\n",
    "\n",
    "\n",
    "len(D)\n"
   ]
  },
  {
   "cell_type": "code",
   "execution_count": 64,
   "id": "approximate-firewall",
   "metadata": {},
   "outputs": [
    {
     "data": {
      "text/plain": [
       "139"
      ]
     },
     "execution_count": 64,
     "metadata": {},
     "output_type": "execute_result"
    }
   ],
   "source": [
    "df= pd.read_csv('flat M9 media.csv')\n",
    "b= df.iloc[:, 1]\n",
    "df1= pd.read_csv('flat anaerobic.csv')\n",
    "c= df1.iloc[:, 1]\n",
    "df2= pd.read_csv('flat study conditions.csv')\n",
    "d= df2.iloc[:, 1]\n",
    "df3= pd.read_csv('flat lactose.csv')\n",
    "e= df3.iloc[:, 1]\n",
    "\n",
    "\n",
    "intersect1 = pd.Series(np.intersect1d(b, c))\n",
    "intersect2 = pd.Series(np.intersect1d(b, d))\n",
    "intersect3 = pd.Series(np.intersect1d(b, e))\n",
    "\n",
    "\n",
    "D= pd.DataFrame(intersect1, columns=['Reaction names'])\n",
    "D.to_csv(\"Common reactions flat M9 media-flat anaerobic\")\n",
    "D1= pd.DataFrame(intersect2, columns=['Reaction names'])\n",
    "D1.to_csv(\"Common reactions flat M9 media-flat study conditions\")\n",
    "D2= pd.DataFrame(intersect3, columns=['Reaction names'])\n",
    "D2.to_csv(\"Common reactions flat M9 media-flat lactose\")\n",
    "\n",
    "\n",
    "len(D)\n",
    "len(D1)\n",
    "len(D2)\n"
   ]
  },
  {
   "cell_type": "code",
   "execution_count": 68,
   "id": "hazardous-electric",
   "metadata": {},
   "outputs": [
    {
     "data": {
      "text/plain": [
       "136"
      ]
     },
     "execution_count": 68,
     "metadata": {},
     "output_type": "execute_result"
    }
   ],
   "source": [
    "df= pd.read_csv('flat study conditions.csv')\n",
    "b= df.iloc[:, 1]\n",
    "df1= pd.read_csv('flat anaerobic.csv')\n",
    "c= df1.iloc[:, 1]\n",
    "df2= pd.read_csv('flat lactose.csv')\n",
    "d= df2.iloc[:, 1]\n",
    "\n",
    "intersect1 = pd.Series(np.intersect1d(b, c))\n",
    "intersect2 = pd.Series(np.intersect1d(b, d))\n",
    "\n",
    "\n",
    "D= pd.DataFrame(intersect1, columns=['Reaction names'])\n",
    "D.to_csv(\"Common reactions flat study conditions-flat anaerobic\")\n",
    "D1= pd.DataFrame(intersect2, columns=['Reaction names'])\n",
    "D1.to_csv(\"Common reactions flat study conditions-flat lactose\")\n",
    "\n",
    "\n",
    "len(D)\n",
    "len(D1)\n"
   ]
  },
  {
   "cell_type": "code",
   "execution_count": 71,
   "id": "laughing-brass",
   "metadata": {},
   "outputs": [
    {
     "data": {
      "text/plain": [
       "141"
      ]
     },
     "execution_count": 71,
     "metadata": {},
     "output_type": "execute_result"
    }
   ],
   "source": [
    "df= pd.read_csv('flat lactose.csv')\n",
    "b= df.iloc[:, 1]\n",
    "df1= pd.read_csv('flat anaerobic.csv')\n",
    "c= df1.iloc[:, 1]\n",
    "\n",
    "intersect1 = pd.Series(np.intersect1d(b, c))\n",
    "\n",
    "\n",
    "D= pd.DataFrame(intersect1, columns=['Reaction names'])\n",
    "D.to_csv(\"Common reactions flat lactose-flat anaerobic\")\n",
    "\n",
    "\n",
    "len(D)\n"
   ]
  },
  {
   "cell_type": "code",
   "execution_count": 73,
   "id": "handmade-hunter",
   "metadata": {},
   "outputs": [
    {
     "data": {
      "text/plain": [
       "967"
      ]
     },
     "execution_count": 73,
     "metadata": {},
     "output_type": "execute_result"
    }
   ],
   "source": [
    "df= pd.read_csv('one feasible value reactions M9 media.csv')\n",
    "b= df.iloc[:, 1]\n",
    "df1= pd.read_csv('one feasible value reactions anaerobic.csv')\n",
    "c= df1.iloc[:, 1]\n",
    "df2= pd.read_csv('one feasible value reactions study conditions.csv')\n",
    "d= df2.iloc[:, 1]\n",
    "df3= pd.read_csv('one feasible value reactions lactose.csv')\n",
    "e= df3.iloc[:, 1]\n",
    "\n",
    "\n",
    "intersect1 = pd.Series(np.intersect1d(b, c))\n",
    "intersect2 = pd.Series(np.intersect1d(b, d))\n",
    "intersect3 = pd.Series(np.intersect1d(b, e))\n",
    "\n",
    "\n",
    "D= pd.DataFrame(intersect1, columns=['Reaction names'])\n",
    "D.to_csv(\"Common reactions one feasible value M9 media-one feasible value anaerobic\")\n",
    "D1= pd.DataFrame(intersect2, columns=['Reaction names'])\n",
    "D1.to_csv(\"Common reactions one feasible value M9 media-one feasible value study conditions\")\n",
    "D2= pd.DataFrame(intersect3, columns=['Reaction names'])\n",
    "D2.to_csv(\"Common reactions one feasible value M9 media-one feasible value lactose\")\n",
    "\n",
    "\n",
    "len(D)\n",
    "len(D1)\n",
    "len(D2)\n"
   ]
  },
  {
   "cell_type": "code",
   "execution_count": 77,
   "id": "capable-ideal",
   "metadata": {},
   "outputs": [
    {
     "data": {
      "text/plain": [
       "967"
      ]
     },
     "execution_count": 77,
     "metadata": {},
     "output_type": "execute_result"
    }
   ],
   "source": [
    "df= pd.read_csv('one feasible value reactions study conditions.csv')\n",
    "b= df.iloc[:, 1]\n",
    "df1= pd.read_csv('one feasible value reactions anaerobic.csv')\n",
    "c= df1.iloc[:, 1]\n",
    "df2= pd.read_csv('one feasible value reactions lactose.csv')\n",
    "d= df2.iloc[:, 1]\n",
    "\n",
    "intersect1 = pd.Series(np.intersect1d(b, c))\n",
    "intersect2 = pd.Series(np.intersect1d(b, d))\n",
    "\n",
    "\n",
    "D= pd.DataFrame(intersect1, columns=['Reaction names'])\n",
    "D.to_csv(\"Common reactions one feasible value study conditions-one feasible value anaerobic\")\n",
    "D1= pd.DataFrame(intersect2, columns=['Reaction names'])\n",
    "D1.to_csv(\"Common reactions one feasible value study conditions-one feasible value lactose\")\n",
    "\n",
    "\n",
    "len(D)\n",
    "len(D1)\n"
   ]
  },
  {
   "cell_type": "code",
   "execution_count": 86,
   "id": "iraqi-attention",
   "metadata": {},
   "outputs": [
    {
     "data": {
      "text/plain": [
       "967"
      ]
     },
     "execution_count": 86,
     "metadata": {},
     "output_type": "execute_result"
    }
   ],
   "source": [
    "df= pd.read_csv('one feasible value reactions lactose.csv')\n",
    "b= df.iloc[:, 1]\n",
    "df1= pd.read_csv('one feasible value reactions anaerobic.csv')\n",
    "c= df1.iloc[:, 1]\n",
    "\n",
    "intersect1 = pd.Series(np.intersect1d(b, c))\n",
    "\n",
    "\n",
    "D= pd.DataFrame(intersect1, columns=['Reaction names'])\n",
    "D.to_csv(\"Common reactions one feasible value lactose-one feasible value anaerobic\")\n",
    "\n",
    "\n",
    "len(D)\n"
   ]
  },
  {
   "cell_type": "code",
   "execution_count": 82,
   "id": "increased-vegetable",
   "metadata": {},
   "outputs": [
    {
     "data": {
      "text/plain": [
       "1"
      ]
     },
     "execution_count": 82,
     "metadata": {},
     "output_type": "execute_result"
    }
   ],
   "source": [
    "df= pd.read_csv('Ushaped_reactions M9 media.csv')\n",
    "b= df.iloc[:, 1]\n",
    "df1= pd.read_csv('Ushaped_reactions anaerobic.csv')\n",
    "c= df1.iloc[:, 1]\n",
    "df2= pd.read_csv('Ushaped_reactions study conditions.csv')\n",
    "d= df2.iloc[:, 1]\n",
    "df3= pd.read_csv('Ushaped_reactions lactose.csv')\n",
    "e= df3.iloc[:, 1]\n",
    "\n",
    "\n",
    "intersect1 = pd.Series(np.intersect1d(b, c))\n",
    "intersect2 = pd.Series(np.intersect1d(b, d))\n",
    "intersect3 = pd.Series(np.intersect1d(b, e))\n",
    "\n",
    "\n",
    "D= pd.DataFrame(intersect1, columns=['Reaction names'])\n",
    "D.to_csv(\"Common reactions Ushaped M9 media-Ushaped anaerobic\")\n",
    "D1= pd.DataFrame(intersect2, columns=['Reaction names'])\n",
    "D1.to_csv(\"Common reactions Ushaped M9 media-Ushaped study conditions\")\n",
    "D2= pd.DataFrame(intersect3, columns=['Reaction names'])\n",
    "D2.to_csv(\"Common reactions Ushaped M9 media-Ushaped lactose\")\n",
    "\n",
    "\n",
    "len(D)\n",
    "len(D1)\n",
    "len(D2)\n"
   ]
  },
  {
   "cell_type": "code",
   "execution_count": 87,
   "id": "loaded-collective",
   "metadata": {},
   "outputs": [
    {
     "data": {
      "text/plain": [
       "1"
      ]
     },
     "execution_count": 87,
     "metadata": {},
     "output_type": "execute_result"
    }
   ],
   "source": [
    "df= pd.read_csv('Ushaped_reactions study conditions.csv')\n",
    "b= df.iloc[:, 1]\n",
    "df1= pd.read_csv('Ushaped_reactions anaerobic.csv')\n",
    "c= df1.iloc[:, 1]\n",
    "df2= pd.read_csv('Ushaped_reactions lactose.csv')\n",
    "d= df2.iloc[:, 1]\n",
    "\n",
    "intersect1 = pd.Series(np.intersect1d(b, c))\n",
    "intersect2 = pd.Series(np.intersect1d(b, d))\n",
    "\n",
    "\n",
    "D= pd.DataFrame(intersect1, columns=['Reaction names'])\n",
    "D.to_csv(\"Common reactions Ushaped study conditions-Ushaped anaerobic\")\n",
    "D1= pd.DataFrame(intersect2, columns=['Reaction names'])\n",
    "D1.to_csv(\"Common reactions Ushaped study conditions-Ushaped lactose\")\n",
    "\n",
    "\n",
    "len(D)\n",
    "len(D1)"
   ]
  },
  {
   "cell_type": "code",
   "execution_count": 91,
   "id": "tutorial-hungarian",
   "metadata": {},
   "outputs": [
    {
     "data": {
      "text/plain": [
       "0"
      ]
     },
     "execution_count": 91,
     "metadata": {},
     "output_type": "execute_result"
    }
   ],
   "source": [
    "df= pd.read_csv('Ushaped_reactions lactose.csv')\n",
    "b= df.iloc[:, 1]\n",
    "df1= pd.read_csv('Ushaped_reactions anaerobic.csv')\n",
    "c= df1.iloc[:, 1]\n",
    "\n",
    "intersect1 = pd.Series(np.intersect1d(b, c))\n",
    "\n",
    "\n",
    "D= pd.DataFrame(intersect1, columns=['Reaction names'])\n",
    "D.to_csv(\"Common reactions Ushaped lactose-Ushaped anaerobic\")\n",
    "\n",
    "\n",
    "len(D)\n"
   ]
  },
  {
   "cell_type": "code",
   "execution_count": 94,
   "id": "unlimited-regular",
   "metadata": {},
   "outputs": [
    {
     "data": {
      "text/plain": [
       "48"
      ]
     },
     "execution_count": 94,
     "metadata": {},
     "output_type": "execute_result"
    }
   ],
   "source": [
    "df= pd.read_csv('monotonically decreasing and stable reactions M9 media.csv')\n",
    "b= df.iloc[:, 1]\n",
    "df1= pd.read_csv('monotonically decreasing and stable reactions anaerobic.csv')\n",
    "c= df1.iloc[:, 1]\n",
    "df2= pd.read_csv('monotonically decreasing and stable reactions study conditions.csv')\n",
    "d= df2.iloc[:, 1]\n",
    "df3= pd.read_csv('monotonically decreasing and stable reactions lactose.csv')\n",
    "e= df3.iloc[:, 1]\n",
    "\n",
    "\n",
    "intersect1 = pd.Series(np.intersect1d(b, c))\n",
    "intersect2 = pd.Series(np.intersect1d(b, d))\n",
    "intersect3 = pd.Series(np.intersect1d(b, e))\n",
    "\n",
    "\n",
    "D= pd.DataFrame(intersect1, columns=['Reaction names'])\n",
    "D.to_csv(\"Common reactions monotonically decreasing and stable M9 media-monotonically decreasing and stable anaerobic\")\n",
    "D1= pd.DataFrame(intersect2, columns=['Reaction names'])\n",
    "D1.to_csv(\"Common reactions monotonically decreasing and stable M9 media-monotonically decreasing and stable study conditions\")\n",
    "D2= pd.DataFrame(intersect3, columns=['Reaction names'])\n",
    "D2.to_csv(\"Common reactions monotonically decreasing and stable M9 media-monotonically decreasing and stable lactose\")\n",
    "\n",
    "\n",
    "len(D)\n",
    "len(D1)\n",
    "len(D2)"
   ]
  },
  {
   "cell_type": "code",
   "execution_count": 98,
   "id": "artificial-malawi",
   "metadata": {},
   "outputs": [
    {
     "data": {
      "text/plain": [
       "42"
      ]
     },
     "execution_count": 98,
     "metadata": {},
     "output_type": "execute_result"
    }
   ],
   "source": [
    "df= pd.read_csv('monotonically decreasing and stable reactions study conditions.csv')\n",
    "b= df.iloc[:, 1]\n",
    "df1= pd.read_csv('monotonically decreasing and stable reactions anaerobic.csv')\n",
    "c= df1.iloc[:, 1]\n",
    "df2= pd.read_csv('monotonically decreasing and stable reactions lactose.csv')\n",
    "d= df2.iloc[:, 1]\n",
    "\n",
    "intersect1 = pd.Series(np.intersect1d(b, c))\n",
    "intersect2 = pd.Series(np.intersect1d(b, d))\n",
    "\n",
    "\n",
    "D= pd.DataFrame(intersect1, columns=['Reaction names'])\n",
    "D.to_csv(\"Common reactions monotonically decreasing and stable study conditions-monotonically decreasing and stable anaerobic\")\n",
    "D1= pd.DataFrame(intersect2, columns=['Reaction names'])\n",
    "D1.to_csv(\"Common reactions monotonically decreasing and stable study conditions-monotonically decreasing and stable lactose\")\n",
    "\n",
    "\n",
    "len(D)\n",
    "len(D1)"
   ]
  },
  {
   "cell_type": "code",
   "execution_count": 101,
   "id": "defined-johns",
   "metadata": {},
   "outputs": [
    {
     "data": {
      "text/plain": [
       "31"
      ]
     },
     "execution_count": 101,
     "metadata": {},
     "output_type": "execute_result"
    }
   ],
   "source": [
    "df= pd.read_csv('monotonically decreasing and stable reactions lactose.csv')\n",
    "b= df.iloc[:, 1]\n",
    "df1= pd.read_csv('monotonically decreasing and stable reactions anaerobic.csv')\n",
    "c= df1.iloc[:, 1]\n",
    "\n",
    "intersect1 = pd.Series(np.intersect1d(b, c))\n",
    "\n",
    "\n",
    "D= pd.DataFrame(intersect1, columns=['Reaction names'])\n",
    "D.to_csv(\"Common reactions monotonically decreasing and stable lactose-monotonically decreasing and stable anaerobic\")\n",
    "\n",
    "\n",
    "len(D)\n"
   ]
  },
  {
   "cell_type": "code",
   "execution_count": 103,
   "id": "tracked-breed",
   "metadata": {},
   "outputs": [
    {
     "data": {
      "text/plain": [
       "268"
      ]
     },
     "execution_count": 103,
     "metadata": {},
     "output_type": "execute_result"
    }
   ],
   "source": [
    "df= pd.read_csv('monotonically decreasing only reactions M9 media.csv')\n",
    "b= df.iloc[:, 1]\n",
    "df1= pd.read_csv('monotonically decreasing only reactions anaerobic.csv')\n",
    "c= df1.iloc[:, 1]\n",
    "df2= pd.read_csv('monotonically decreasing only reactions study conditions.csv')\n",
    "d= df2.iloc[:, 1]\n",
    "df3= pd.read_csv('monotonically decreasing only reactions lactose.csv')\n",
    "e= df3.iloc[:, 1]\n",
    "\n",
    "\n",
    "intersect1 = pd.Series(np.intersect1d(b, c))\n",
    "intersect2 = pd.Series(np.intersect1d(b, d))\n",
    "intersect3 = pd.Series(np.intersect1d(b, e))\n",
    "\n",
    "\n",
    "D= pd.DataFrame(intersect1, columns=['Reaction names'])\n",
    "D.to_csv(\"Common reactions monotonically decreasing only M9 media-monotonically decreasing only anaerobic\")\n",
    "D1= pd.DataFrame(intersect2, columns=['Reaction names'])\n",
    "D1.to_csv(\"Common reactions monotonically decreasing only M9 media-monotonically decreasing only study conditions\")\n",
    "D2= pd.DataFrame(intersect3, columns=['Reaction names'])\n",
    "D2.to_csv(\"Common reactions monotonically decreasing only M9 media-monotonically decreasing only lactose\")\n",
    "\n",
    "\n",
    "len(D)\n",
    "len(D1)\n",
    "len(D2)"
   ]
  },
  {
   "cell_type": "code",
   "execution_count": 108,
   "id": "disabled-return",
   "metadata": {},
   "outputs": [
    {
     "data": {
      "text/plain": [
       "248"
      ]
     },
     "execution_count": 108,
     "metadata": {},
     "output_type": "execute_result"
    }
   ],
   "source": [
    "df= pd.read_csv('monotonically decreasing only reactions study conditions.csv')\n",
    "b= df.iloc[:, 1]\n",
    "df1= pd.read_csv('monotonically decreasing only reactions anaerobic.csv')\n",
    "c= df1.iloc[:, 1]\n",
    "df2= pd.read_csv('monotonically decreasing only reactions lactose.csv')\n",
    "d= df2.iloc[:, 1]\n",
    "\n",
    "intersect1 = pd.Series(np.intersect1d(b, c))\n",
    "intersect2 = pd.Series(np.intersect1d(b, d))\n",
    "\n",
    "\n",
    "D= pd.DataFrame(intersect1, columns=['Reaction names'])\n",
    "D.to_csv(\"Common reactions monotonically decreasing only study conditions-monotonically decreasing only anaerobic\")\n",
    "D1= pd.DataFrame(intersect2, columns=['Reaction names'])\n",
    "D1.to_csv(\"Common reactions monotonically decreasing only study conditions-monotonically decreasing only lactose\")\n",
    "\n",
    "\n",
    "len(D)\n",
    "len(D1)"
   ]
  },
  {
   "cell_type": "code",
   "execution_count": 111,
   "id": "nonprofit-sample",
   "metadata": {},
   "outputs": [
    {
     "data": {
      "text/plain": [
       "174"
      ]
     },
     "execution_count": 111,
     "metadata": {},
     "output_type": "execute_result"
    }
   ],
   "source": [
    "df= pd.read_csv('monotonically decreasing only reactions lactose.csv')\n",
    "b= df.iloc[:, 1]\n",
    "df1= pd.read_csv('monotonically decreasing only reactions anaerobic.csv')\n",
    "c= df1.iloc[:, 1]\n",
    "\n",
    "intersect1 = pd.Series(np.intersect1d(b, c))\n",
    "\n",
    "\n",
    "D= pd.DataFrame(intersect1, columns=['Reaction names'])\n",
    "D.to_csv(\"Common reactions monotonically decreasing only lactose-monotonically decreasing only anaerobic\")\n",
    "\n",
    "\n",
    "len(D)"
   ]
  },
  {
   "cell_type": "code",
   "execution_count": 123,
   "id": "current-comparison",
   "metadata": {},
   "outputs": [
    {
     "data": {
      "text/plain": [
       "98"
      ]
     },
     "execution_count": 123,
     "metadata": {},
     "output_type": "execute_result"
    }
   ],
   "source": [
    "df= pd.read_csv('monotonically increasing only reactions M9 media.csv')\n",
    "b= df.iloc[:, 1]\n",
    "df1= pd.read_csv('monotonically increasing only reactions anaerobic.csv')\n",
    "c= df1.iloc[:, 1]\n",
    "df2= pd.read_csv('monotonically increasing only reactions study conditions.csv')\n",
    "d= df2.iloc[:, 1]\n",
    "df3= pd.read_csv('monotonically increasing only reactions lactose.csv')\n",
    "e= df3.iloc[:, 1]\n",
    "\n",
    "\n",
    "intersect1 = pd.Series(np.intersect1d(b, c))\n",
    "intersect2 = pd.Series(np.intersect1d(b, d))\n",
    "intersect3 = pd.Series(np.intersect1d(b, e))\n",
    "\n",
    "\n",
    "D= pd.DataFrame(intersect1, columns=['Reaction names'])\n",
    "D.to_csv(\"Common reactions monotonically increasing only M9 media-monotonically increasing only anaerobic\")\n",
    "D1= pd.DataFrame(intersect2, columns=['Reaction names'])\n",
    "D1.to_csv(\"Common reactions monotonically increasing only M9 media-monotonically increasing only study conditions\")\n",
    "D2= pd.DataFrame(intersect3, columns=['Reaction names'])\n",
    "D2.to_csv(\"Common reactions monotonically increasing only M9 media-monotonically increasing only lactose\")\n",
    "\n",
    "\n",
    "len(D)\n",
    "len(D1)\n",
    "len(D2)"
   ]
  },
  {
   "cell_type": "code",
   "execution_count": 117,
   "id": "concrete-application",
   "metadata": {},
   "outputs": [
    {
     "data": {
      "text/plain": [
       "64"
      ]
     },
     "execution_count": 117,
     "metadata": {},
     "output_type": "execute_result"
    }
   ],
   "source": [
    "df= pd.read_csv('monotonically increasing only reactions study conditions.csv')\n",
    "b= df.iloc[:, 1]\n",
    "df1= pd.read_csv('monotonically increasing only reactions anaerobic.csv')\n",
    "c= df1.iloc[:, 1]\n",
    "df2= pd.read_csv('monotonically increasing only reactions lactose.csv')\n",
    "d= df2.iloc[:, 1]\n",
    "\n",
    "intersect1 = pd.Series(np.intersect1d(b, c))\n",
    "intersect2 = pd.Series(np.intersect1d(b, d))\n",
    "\n",
    "\n",
    "D= pd.DataFrame(intersect1, columns=['Reaction names'])\n",
    "D.to_csv(\"Common reactions monotonically increasing only study conditions-monotonically increasing only anaerobic\")\n",
    "D1= pd.DataFrame(intersect2, columns=['Reaction names'])\n",
    "D1.to_csv(\"Common reactions monotonically increasing only study conditions-monotonically increasing only lactose\")\n",
    "\n",
    "\n",
    "len(D)\n",
    "len(D1)"
   ]
  },
  {
   "cell_type": "code",
   "execution_count": 121,
   "id": "residential-establishment",
   "metadata": {},
   "outputs": [
    {
     "data": {
      "text/plain": [
       "78"
      ]
     },
     "execution_count": 121,
     "metadata": {},
     "output_type": "execute_result"
    }
   ],
   "source": [
    "df= pd.read_csv('monotonically increasing only reactions lactose.csv')\n",
    "b= df.iloc[:, 1]\n",
    "df1= pd.read_csv('monotonically increasing only reactions anaerobic.csv')\n",
    "c= df1.iloc[:, 1]\n",
    "\n",
    "intersect1 = pd.Series(np.intersect1d(b, c))\n",
    "\n",
    "\n",
    "D= pd.DataFrame(intersect1, columns=['Reaction names'])\n",
    "D.to_csv(\"Common reactions monotonically increasing only lactose-monotonically increasing only anaerobic\")\n",
    "\n",
    "\n",
    "len(D)"
   ]
  },
  {
   "cell_type": "code",
   "execution_count": 125,
   "id": "intelligent-expert",
   "metadata": {},
   "outputs": [
    {
     "data": {
      "text/plain": [
       "13"
      ]
     },
     "execution_count": 125,
     "metadata": {},
     "output_type": "execute_result"
    }
   ],
   "source": [
    "df= pd.read_csv('monotonically increasing and stable reactions M9 media.csv')\n",
    "b= df.iloc[:, 1]\n",
    "df1= pd.read_csv('monotonically increasing and stable reactions anaerobic.csv')\n",
    "c= df1.iloc[:, 1]\n",
    "df2= pd.read_csv('monotonically increasing and stable reactions study conditions.csv')\n",
    "d= df2.iloc[:, 1]\n",
    "df3= pd.read_csv('monotonically increasing and stable reactions lactose.csv')\n",
    "e= df3.iloc[:, 1]\n",
    "\n",
    "\n",
    "intersect1 = pd.Series(np.intersect1d(b, c))\n",
    "intersect2 = pd.Series(np.intersect1d(b, d))\n",
    "intersect3 = pd.Series(np.intersect1d(b, e))\n",
    "\n",
    "\n",
    "D= pd.DataFrame(intersect1, columns=['Reaction names'])\n",
    "D.to_csv(\"Common reactions monotonically increasing and stable M9 media-monotonically increasing and stable anaerobic\")\n",
    "D1= pd.DataFrame(intersect2, columns=['Reaction names'])\n",
    "D1.to_csv(\"Common reactions monotonically increasing and stable M9 media-monotonically increasing and stable study conditions\")\n",
    "D2= pd.DataFrame(intersect3, columns=['Reaction names'])\n",
    "D2.to_csv(\"Common reactions monotonically increasing and stable M9 media-monotonically increasing and stable lactose\")\n",
    "\n",
    "\n",
    "len(D)\n",
    "len(D1)\n",
    "len(D2)"
   ]
  },
  {
   "cell_type": "code",
   "execution_count": 131,
   "id": "varied-helena",
   "metadata": {},
   "outputs": [
    {
     "data": {
      "text/plain": [
       "14"
      ]
     },
     "execution_count": 131,
     "metadata": {},
     "output_type": "execute_result"
    }
   ],
   "source": [
    "df= pd.read_csv('monotonically increasing and stable reactions study conditions.csv')\n",
    "b= df.iloc[:, 1]\n",
    "df1= pd.read_csv('monotonically increasing and stable reactions anaerobic.csv')\n",
    "c= df1.iloc[:, 1]\n",
    "df2= pd.read_csv('monotonically increasing and stable reactions lactose.csv')\n",
    "d= df2.iloc[:, 1]\n",
    "\n",
    "intersect1 = pd.Series(np.intersect1d(b, c))\n",
    "intersect2 = pd.Series(np.intersect1d(b, d))\n",
    "\n",
    "\n",
    "D= pd.DataFrame(intersect1, columns=['Reaction names'])\n",
    "D.to_csv(\"Common reactions monotonically increasing and stable study conditions-monotonically increasing and stable anaerobic\")\n",
    "D1= pd.DataFrame(intersect2, columns=['Reaction names'])\n",
    "D1.to_csv(\"Common reactions monotonically increasing and stable study conditions-monotonically increasing and stable lactose\")\n",
    "\n",
    "\n",
    "len(D)\n",
    "len(D1)"
   ]
  },
  {
   "cell_type": "code",
   "execution_count": 134,
   "id": "painful-little",
   "metadata": {},
   "outputs": [
    {
     "data": {
      "text/plain": [
       "1"
      ]
     },
     "execution_count": 134,
     "metadata": {},
     "output_type": "execute_result"
    }
   ],
   "source": [
    "df= pd.read_csv('monotonically increasing and stable reactions lactose.csv')\n",
    "b= df.iloc[:, 1]\n",
    "df1= pd.read_csv('monotonically increasing and stable reactions anaerobic.csv')\n",
    "c= df1.iloc[:, 1]\n",
    "\n",
    "intersect1 = pd.Series(np.intersect1d(b, c))\n",
    "\n",
    "\n",
    "D= pd.DataFrame(intersect1, columns=['Reaction names'])\n",
    "D.to_csv(\"Common reactions monotonically increasing and stable lactose-monotonically increasing and stable anaerobic\")\n",
    "\n",
    "\n",
    "len(D)"
   ]
  },
  {
   "cell_type": "code",
   "execution_count": 136,
   "id": "successful-helen",
   "metadata": {},
   "outputs": [
    {
     "data": {
      "text/plain": [
       "24"
      ]
     },
     "execution_count": 136,
     "metadata": {},
     "output_type": "execute_result"
    }
   ],
   "source": [
    "df= pd.read_csv('increasing and decreasing and stable reactions M9 media.csv')\n",
    "b= df.iloc[:, 1]\n",
    "df1= pd.read_csv('increasing and decreasing and stable reactions anaerobic.csv')\n",
    "c= df1.iloc[:, 1]\n",
    "df2= pd.read_csv('increasing and decreasing and stable reactions study conditions.csv')\n",
    "d= df2.iloc[:, 1]\n",
    "df3= pd.read_csv('increasing and decreasing and stable reactions lactose.csv')\n",
    "e= df3.iloc[:, 1]\n",
    "\n",
    "\n",
    "intersect1 = pd.Series(np.intersect1d(b, c))\n",
    "intersect2 = pd.Series(np.intersect1d(b, d))\n",
    "intersect3 = pd.Series(np.intersect1d(b, e))\n",
    "\n",
    "\n",
    "D= pd.DataFrame(intersect1, columns=['Reaction names'])\n",
    "D.to_csv(\"Common reactions increasing and decreasing and stable M9 media-increasing and decreasing and stable anaerobic\")\n",
    "D1= pd.DataFrame(intersect2, columns=['Reaction names'])\n",
    "D1.to_csv(\"Common reactions increasing and decreasing and stable M9 media-increasing and decreasing and stable study conditions\")\n",
    "D2= pd.DataFrame(intersect3, columns=['Reaction names'])\n",
    "D2.to_csv(\"Common reactions increasing and decreasing and stable M9 media-increasing and decreasing and stable lactose\")\n",
    "\n",
    "\n",
    "len(D)\n",
    "len(D1)\n",
    "len(D2)"
   ]
  },
  {
   "cell_type": "code",
   "execution_count": 143,
   "id": "ruled-diagnosis",
   "metadata": {},
   "outputs": [
    {
     "data": {
      "text/plain": [
       "18"
      ]
     },
     "execution_count": 143,
     "metadata": {},
     "output_type": "execute_result"
    }
   ],
   "source": [
    "df= pd.read_csv('increasing and decreasing and stable reactions study conditions.csv')\n",
    "b= df.iloc[:, 1]\n",
    "df1= pd.read_csv('increasing and decreasing and stable reactions anaerobic.csv')\n",
    "c= df1.iloc[:, 1]\n",
    "df2= pd.read_csv('increasing and decreasing and stable reactions lactose.csv')\n",
    "d= df2.iloc[:, 1]\n",
    "\n",
    "intersect1 = pd.Series(np.intersect1d(b, c))\n",
    "intersect2 = pd.Series(np.intersect1d(b, d))\n",
    "\n",
    "\n",
    "D= pd.DataFrame(intersect1, columns=['Reaction names'])\n",
    "D.to_csv(\"Common reactions increasing and decreasing and stable study conditions-increasing and decreasing and stable anaerobic\")\n",
    "D1= pd.DataFrame(intersect2, columns=['Reaction names'])\n",
    "D1.to_csv(\"Common reactions increasing and decreasing and stable study conditions-increasing and decreasing and stable lactose\")\n",
    "\n",
    "\n",
    "len(D)\n",
    "len(D1)"
   ]
  },
  {
   "cell_type": "code",
   "execution_count": 142,
   "id": "graphic-contest",
   "metadata": {},
   "outputs": [
    {
     "data": {
      "text/plain": [
       "15"
      ]
     },
     "execution_count": 142,
     "metadata": {},
     "output_type": "execute_result"
    }
   ],
   "source": [
    "df= pd.read_csv('increasing and decreasing and stable reactions lactose.csv')\n",
    "b= df.iloc[:, 1]\n",
    "df1= pd.read_csv('increasing and decreasing and stable reactions anaerobic.csv')\n",
    "c= df1.iloc[:, 1]\n",
    "\n",
    "intersect1 = pd.Series(np.intersect1d(b, c))\n",
    "\n",
    "\n",
    "D= pd.DataFrame(intersect1, columns=['Reaction names'])\n",
    "D.to_csv(\"Common reactions increasing and decreasing and stable lactose-increasing and decreasing and stable anaerobic\")\n",
    "\n",
    "\n",
    "len(D)"
   ]
  },
  {
   "cell_type": "code",
   "execution_count": 152,
   "id": "toxic-anniversary",
   "metadata": {},
   "outputs": [
    {
     "data": {
      "text/plain": [
       "210"
      ]
     },
     "execution_count": 152,
     "metadata": {},
     "output_type": "execute_result"
    }
   ],
   "source": [
    "df= pd.read_csv('increasing and decreasing only reactions M9 media.csv')\n",
    "b= df.iloc[:, 1]\n",
    "df1= pd.read_csv('increasing and decreasing only reactions anaerobic.csv')\n",
    "c= df1.iloc[:, 1]\n",
    "df2= pd.read_csv('increasing and decreasing only reactions study conditions.csv')\n",
    "d= df2.iloc[:, 1]\n",
    "df3= pd.read_csv('increasing and decreasing only reactions lactose.csv')\n",
    "e= df3.iloc[:, 1]\n",
    "\n",
    "\n",
    "intersect1 = pd.Series(np.intersect1d(b, c))\n",
    "intersect2 = pd.Series(np.intersect1d(b, d))\n",
    "intersect3 = pd.Series(np.intersect1d(b, e))\n",
    "\n",
    "\n",
    "D= pd.DataFrame(intersect1, columns=['Reaction names'])\n",
    "D.to_csv(\"Common reactions increasing and decreasing only M9 media-increasing and decreasing only anaerobic\")\n",
    "D1= pd.DataFrame(intersect2, columns=['Reaction names'])\n",
    "D1.to_csv(\"Common reactions increasing and decreasing only M9 media-increasing and decreasing only study conditions\")\n",
    "D2= pd.DataFrame(intersect3, columns=['Reaction names'])\n",
    "D2.to_csv(\"Common reactions increasing and decreasing only M9 media-increasing and decreasing only lactose\")\n",
    "\n",
    "\n",
    "len(D)\n",
    "len(D1)\n",
    "len(D2)"
   ]
  },
  {
   "cell_type": "code",
   "execution_count": 147,
   "id": "continental-google",
   "metadata": {},
   "outputs": [
    {
     "data": {
      "text/plain": [
       "193"
      ]
     },
     "execution_count": 147,
     "metadata": {},
     "output_type": "execute_result"
    }
   ],
   "source": [
    "df= pd.read_csv('increasing and decreasing only reactions study conditions.csv')\n",
    "b= df.iloc[:, 1]\n",
    "df1= pd.read_csv('increasing and decreasing only reactions anaerobic.csv')\n",
    "c= df1.iloc[:, 1]\n",
    "df2= pd.read_csv('increasing and decreasing only reactions lactose.csv')\n",
    "d= df2.iloc[:, 1]\n",
    "\n",
    "intersect1 = pd.Series(np.intersect1d(b, c))\n",
    "intersect2 = pd.Series(np.intersect1d(b, d))\n",
    "\n",
    "\n",
    "D= pd.DataFrame(intersect1, columns=['Reaction names'])\n",
    "D.to_csv(\"Common reactions increasing and decreasing only study conditions-increasing and decreasing only anaerobic\")\n",
    "D1= pd.DataFrame(intersect2, columns=['Reaction names'])\n",
    "D1.to_csv(\"Common reactions increasing and decreasing only study conditions-increasing and decreasing only lactose\")\n",
    "\n",
    "\n",
    "len(D)\n",
    "len(D1)"
   ]
  },
  {
   "cell_type": "code",
   "execution_count": 150,
   "id": "front-boost",
   "metadata": {},
   "outputs": [
    {
     "data": {
      "text/plain": [
       "122"
      ]
     },
     "execution_count": 150,
     "metadata": {},
     "output_type": "execute_result"
    }
   ],
   "source": [
    "df= pd.read_csv('increasing and decreasing only reactions lactose.csv')\n",
    "b= df.iloc[:, 1]\n",
    "df1= pd.read_csv('increasing and decreasing only reactions anaerobic.csv')\n",
    "c= df1.iloc[:, 1]\n",
    "\n",
    "intersect1 = pd.Series(np.intersect1d(b, c))\n",
    "\n",
    "\n",
    "D= pd.DataFrame(intersect1, columns=['Reaction names'])\n",
    "D.to_csv(\"Common reactions increasing and decreasing only lactose-increasing and decreasing only anaerobic\")\n",
    "\n",
    "\n",
    "len(D)"
   ]
  },
  {
   "cell_type": "code",
   "execution_count": 155,
   "id": "lesbian-breakdown",
   "metadata": {},
   "outputs": [
    {
     "data": {
      "text/plain": [
       "221"
      ]
     },
     "execution_count": 155,
     "metadata": {},
     "output_type": "execute_result"
    }
   ],
   "source": [
    "len(D1)"
   ]
  },
  {
   "cell_type": "code",
   "execution_count": null,
   "id": "complete-column",
   "metadata": {},
   "outputs": [],
   "source": []
  }
 ],
 "metadata": {
  "kernelspec": {
   "display_name": "Python 3",
   "language": "python",
   "name": "python3"
  },
  "language_info": {
   "codemirror_mode": {
    "name": "ipython",
    "version": 3
   },
   "file_extension": ".py",
   "mimetype": "text/x-python",
   "name": "python",
   "nbconvert_exporter": "python",
   "pygments_lexer": "ipython3",
   "version": "3.8.3"
  }
 },
 "nbformat": 4,
 "nbformat_minor": 5
}
